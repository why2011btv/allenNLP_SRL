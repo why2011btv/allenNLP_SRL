{
 "cells": [
  {
   "cell_type": "code",
   "execution_count": 10,
   "metadata": {},
   "outputs": [
    {
     "name": "stdout",
     "output_type": "stream",
     "text": [
      "<class 'list'>\n"
     ]
    }
   ],
   "source": [
    "file_name = \"/shared/why16gzl/allenNLP-SRL/outputf.txt\"\n",
    "with open(file_name, 'r') as file:\n",
    "    content = file.read()\n",
    "\n",
    "import json\n",
    "\n",
    "data = json.loads(content)\n",
    "print(type(data))\n"
   ]
  },
  {
   "cell_type": "code",
   "execution_count": 22,
   "metadata": {},
   "outputs": [],
   "source": [
    "for i in range(len(data[0][\"verbs\"])):\n",
    "    print(data[0][\"verbs\"][i]['verb'])"
   ]
  },
  {
   "cell_type": "code",
   "execution_count": null,
   "metadata": {},
   "outputs": [],
   "source": [
    "import os\n",
    "mypath=\"/shared/why16gzl/allenNLP-SRL/nyt_file_\"\n",
    "key_word=\"broadcast\"\n",
    "\n",
    "onlyfiles = [f for f in listdir(mypath) if isfile(join(mypath, f))]\n",
    "for file_name in onlyfiles:\n",
    "    with open(mypath + file_name, 'r') as file:"
   ]
  }
 ],
 "metadata": {
  "kernelspec": {
   "display_name": "allennlp",
   "language": "python",
   "name": "allennlp"
  },
  "language_info": {
   "codemirror_mode": {
    "name": "ipython",
    "version": 3
   },
   "file_extension": ".py",
   "mimetype": "text/x-python",
   "name": "python",
   "nbconvert_exporter": "python",
   "pygments_lexer": "ipython3",
   "version": "3.7.6"
  }
 },
 "nbformat": 4,
 "nbformat_minor": 2
}
